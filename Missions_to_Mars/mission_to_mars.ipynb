{
 "cells": [
  {
   "cell_type": "code",
   "execution_count": null,
   "metadata": {},
   "outputs": [],
   "source": [
    "#Import dependencies\n",
    "import pandas as pd\n",
    "import pymongo\n",
    "from bs4 import BeautifulSoup as bs\n",
    "import requests\n",
    "import os\n",
    "from splinter import Browser\n",
    "import re"
   ]
  },
  {
   "cell_type": "code",
   "execution_count": null,
   "metadata": {},
   "outputs": [],
   "source": [
    "#Locate chromedriver in local folder\n",
    "\n",
    "!which chromedriver"
   ]
  },
  {
   "cell_type": "code",
   "execution_count": null,
   "metadata": {},
   "outputs": [],
   "source": [
    "#Create executable path\n",
    "executable_path = {'executable_path': '/usr/local/bin/chromedriver'}\n",
    "browser = Browser('chrome', **executable_path, headless=False)"
   ]
  },
  {
   "cell_type": "code",
   "execution_count": null,
   "metadata": {},
   "outputs": [],
   "source": [
    "#Scraping Nasa Mars website for latest news\n",
    "\n",
    "url = 'https://mars.nasa.gov/news/'\n",
    "browser.visit(url)"
   ]
  },
  {
   "cell_type": "code",
   "execution_count": null,
   "metadata": {},
   "outputs": [],
   "source": [
    "#Use bs to locate classes for news title and paragraph text\n",
    "\n",
    "html = browser.html\n",
    "soup = bs(html, 'html.parser')\n",
    "#print(soup.prettify())"
   ]
  },
  {
   "cell_type": "code",
   "execution_count": null,
   "metadata": {},
   "outputs": [],
   "source": [
    "#Using find all function to identify latest title and text the print\n",
    "\n",
    "news_title = soup.find_all('div', class_='content_title')[1].text\n",
    "\n",
    "title_text = soup.find_all('div', class_='article_teaser_body')[0].text\n",
    "\n",
    "print('-------------')\n",
    "print(f\"Title: {news_title}\")\n",
    "print(f\"Synopsis: {title_text}\")\n",
    "print('-------------')      \n",
    "   "
   ]
  },
  {
   "cell_type": "code",
   "execution_count": null,
   "metadata": {},
   "outputs": [],
   "source": [
    "#Scraping NASA JPL for featured Mars image\n",
    "\n",
    "jpl_url = 'https://www.jpl.nasa.gov/spaceimages/?search=&category=Mars'\n",
    "browser.visit(jpl_url)\n"
   ]
  },
  {
   "cell_type": "code",
   "execution_count": null,
   "metadata": {},
   "outputs": [],
   "source": [
    "#Connect to website and find featured image url \n",
    "image_html = browser.html\n",
    "image_bs = bs(image_html, 'html.parser')\n",
    "\n",
    "featured_image_url = image_bs.find('article', class_='carousel_item')['style']\n",
    "featured_image_url"
   ]
  },
  {
   "cell_type": "code",
   "execution_count": null,
   "metadata": {},
   "outputs": [],
   "source": [
    "featured_images = re.findall(r\"'(.*?)'\",featured_image_url)\n",
    "\n",
    "featured_image_url = 'https://www.jpl.nasa.gov' + featured_images"
   ]
  },
  {
   "cell_type": "code",
   "execution_count": null,
   "metadata": {},
   "outputs": [],
   "source": [
    "#Scraping Space Facts for Mars data table\n",
    "space_facts = 'https://space-facts.com/mars/'\n",
    "browser.visit(space_facts)"
   ]
  },
  {
   "cell_type": "code",
   "execution_count": null,
   "metadata": {},
   "outputs": [],
   "source": [
    "#Connect to Space Facts website then convert findings to dataframe then again to html\n",
    "\n",
    "mars_html = browser.html\n",
    "mars_bs = bs(mars_html, 'html.parser')\n",
    "\n",
    "mars_table = mars_bs.find('table', class_='tablepress tablepress-id-p-mars')\n",
    "\n",
    "mars_df = pd.read_html(str(mars_table))[0]\n",
    "mars_df.columns = ['Description','Parameters']\n",
    "mars_df = mars_df.set_index(['Description'])\n",
    "\n",
    "mars_html = mars_df.to_html().replace(\"\\n\", \"\")\n",
    "mars_html"
   ]
  },
  {
   "cell_type": "code",
   "execution_count": null,
   "metadata": {},
   "outputs": [],
   "source": [
    "#Connect to Mars hemisphere website \n",
    "mars_hemisphere = 'https://astrogeology.usgs.gov/search/results?q=hemisphere+enhanced&k1=target&v1=Mars'\n",
    "browser.visit(mars_hemisphere)\n",
    "    "
   ]
  },
  {
   "cell_type": "code",
   "execution_count": null,
   "metadata": {},
   "outputs": [],
   "source": [
    "#Locate hemisphere images then create dictionary to contain these images and their titles\n",
    "mars_hemisphere_html = browser.html\n",
    "mars_hemisphere_bs = bs(mars_hemisphere_html, 'html.parser')\n",
    "mars_hemisphere = mars_hemisphere_bs.find_all('img', class_ ='thumb')\n",
    "\n",
    "mars_hemisphere_image_urls= []\n",
    "\n",
    "for hemisphere in mars_hemisphere:\n",
    "    image_title = hemisphere.attrs['alt'].replace('Enhanced thumbnail','')\n",
    "    image_url = hemisphere.attrs['src']\n",
    "    mars_hemisphere_image_urls.append({'Title':image_title,'Image URl':image_url})\n",
    "\n",
    "mars_hemisphere_image_urls\n"
   ]
  },
  {
   "cell_type": "code",
   "execution_count": null,
   "metadata": {},
   "outputs": [],
   "source": [
    "conn = 'mongodb://localhost:27017'\n",
    "client = pymongo.MongoClient(conn)"
   ]
  }
 ],
 "metadata": {
  "kernelspec": {
   "display_name": "Python 3",
   "language": "python",
   "name": "python3"
  },
  "language_info": {
   "codemirror_mode": {
    "name": "ipython",
    "version": 3
   },
   "file_extension": ".py",
   "mimetype": "text/x-python",
   "name": "python",
   "nbconvert_exporter": "python",
   "pygments_lexer": "ipython3",
   "version": "3.7.6"
  }
 },
 "nbformat": 4,
 "nbformat_minor": 4
}
